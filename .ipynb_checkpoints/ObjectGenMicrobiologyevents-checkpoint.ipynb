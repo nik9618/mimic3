{
 "cells": [
  {
   "cell_type": "code",
   "execution_count": null,
   "metadata": {
    "collapsed": false
   },
   "outputs": [],
   "source": [
    "# DB connection:\n",
    "import psycopg2\n",
    "import sys\n",
    "import datetime\n",
    "import numpy as np\n",
    "try:\n",
    "    # conn = psycopg2.connect(\"dbname='mimic' user='kanit' host='melady1.usc.edu' password='abcd6712'\")\n",
    "    conn = psycopg2.connect(\"dbname='mimic' user='kanit' host='localhost' password='abcd6712'\")\n",
    "except:\n",
    "    print \"I am unable to connect to the database\"\n",
    "print 'connection established'"
   ]
  },
  {
   "cell_type": "code",
   "execution_count": null,
   "metadata": {
    "collapsed": false
   },
   "outputs": [],
   "source": [
    "# get admission list (list of hadm_id)\n",
    "ADMISSION_IDS = []\n",
    "cur = conn.cursor()\n",
    "sql = 'SELECT hadm_id FROM mimiciii.ADMISSIONS ORDER BY hadm_id'\n",
    "cur.execute(sql)\n",
    "rows  = cur.fetchall()\n",
    "for row in rows:\n",
    "    ADMISSION_IDS.append(row[0]);\n",
    "\n",
    "print 'total admission : '+ str(len(ADMISSION_IDS))"
   ]
  },
  {
   "cell_type": "code",
   "execution_count": null,
   "metadata": {
    "collapsed": false,
    "scrolled": true
   },
   "outputs": [],
   "source": [
    "PATIENTS_ADM = [];\n",
    "ADMISSIONS = [];\n",
    "\n",
    "MICROBIOLOGYEVENTS = [];\n",
    "\n",
    "# Generate Prescriptions array\n",
    "cur = conn.cursor()\n",
    "cur.execute('select distinct (spec_itemid,org_itemid,ab_itemid) from mimiciii.microbiologyevents')\n",
    "items = cur.fetchall()\n",
    "\n",
    "lenitem = len(items)\n",
    "map_item = {}\n",
    "for i in range(len(items)):\n",
    "    map_item[str(items[i][0])] = i\n",
    "\n",
    "ct=0\n",
    "# ADMISSION_IDS=[100223]\n",
    "for aid in ADMISSION_IDS:\n",
    "#     ct+=1\n",
    "#     if(ct%100==0):print '.',\n",
    "    print aid\n",
    "\n",
    "    # Generate Admission array\n",
    "    cur = conn.cursor()\n",
    "    sql = 'SELECT * FROM mimiciii.ADMISSIONS WHERE hadm_id = ' + str(aid)\n",
    "    cur.execute(sql)\n",
    "    adm = cur.fetchone()\n",
    "    ADMISSIONS.append(list(adm))\n",
    "\n",
    "    # Generate Patient array\n",
    "    cur = conn.cursor()\n",
    "    sql = 'SELECT * FROM mimiciii.patients WHERE subject_id = ' + str(adm[1])\n",
    "    cur.execute(sql)\n",
    "    pat = cur.fetchone()\n",
    "    PATIENTS_ADM.append(list(pat))\n",
    "    \n",
    "    # Get birthdate and admission datetime\n",
    "    birthdate = pat[3]\n",
    "    admitdate = adm[3]\n",
    "\n",
    "    # date | itemids 407 | comparison 4 | float 1 | interpretation 5\n",
    "    slot1 = 1\n",
    "    slot2 = 1 + lenitem\n",
    "    slot3 = 1 + lenitem + lenitem\n",
    "    slot4 = 1 + lenitem + lenitem + lenitem\n",
    "    slot5 = 1 + lenitem + lenitem + lenitem + lenitem\n",
    "    slot6 = 1 + lenitem + lenitem + lenitem + lenitem + lenitem\n",
    "\n",
    "    cur = conn.cursor()\n",
    "    cur.execute('SELECT charttime,(spec_itemid,org_itemid,ab_itemid), dilution_text, dilution_comparison, interpretation,chartdate FROM mimiciii.microbiologyevents WHERE hadm_id='+str(aid)+' ORDER BY chartdate ASC, charttime ASC')\n",
    "    chs = cur.fetchall()\n",
    "    \n",
    "    charttimes = []\n",
    "    charts = []\n",
    "    for c in chs:\n",
    "        cht = c[0]\n",
    "        if(cht==None): cht = c[5]\n",
    "        if cht not in charttimes:\n",
    "            charttimes.append(cht)\n",
    "            charts.append([])\n",
    "        charts[len(charts)-1].append(c)\n",
    "    timeseries = [];\n",
    "    \n",
    "    for di in range(len(charttimes)):\n",
    "        d = charttimes[di]\n",
    "        subtimeseries = [(d-admitdate).total_seconds()]+[None]*lenitem+[None]*lenitem+[None]*lenitem+['']*lenitem+['']*lenitem\n",
    "        ins = charts[di]\n",
    "        num_item = [0]*lenitem;\n",
    "        \n",
    "        for pres in ins:\n",
    "            itemid = pres[1]\n",
    "            dilution_text = pres[2]\n",
    "            dilution_comparison = pres[3]\n",
    "            interpretation = pres[4]\n",
    "            \n",
    "            try:\n",
    "                extractnum = dilution_text.replace('<','').replace('>','').replace('=','')\n",
    "                if(extractnum == ''):\n",
    "                    extractnum = None\n",
    "                else:\n",
    "                    extractnum = float(extractnum)\n",
    "            except:\n",
    "                extractnum = None\n",
    "            \n",
    "            key = map_item[str(itemid)] \n",
    "            \n",
    "            # put it in anyway !\n",
    "            if(dilution_comparison == '='):\n",
    "                subtimeseries[slot4+key] += dilution_comparison + dilution_text + ' //'\n",
    "            else:\n",
    "                subtimeseries[slot4+key] += dilution_text + ' //'\n",
    "            subtimeseries[slot5+key] += interpretation + ' //'\n",
    "            \n",
    "            if(extractnum != None):\n",
    "#                 only_num[key] = 0\n",
    "                if(subtimeseries[slot1+key] == None):\n",
    "                    subtimeseries[slot1+key] = extractnum\n",
    "                    subtimeseries[slot2+key] = dilution_comparison\n",
    "                    subtimeseries[slot3+key] = interpretation\n",
    "                    num_item[key]+=1;\n",
    "                elif(subtimeseries[slot3+key] == interpretation and subtimeseries[slot2+key] == dilution_comparison):\n",
    "                    subtimeseries[slot1+key] += extractnum\n",
    "                    num_item[key]+=1;\n",
    "\n",
    "        for i in range(lenitem):\n",
    "            if(subtimeseries[slot1+i]!= None):\n",
    "                subtimeseries[slot1+i] /= num_item[i]\n",
    "#             if(only_num[key] == 1):\n",
    "#                 subtimeseries[slot2+key] =''\n",
    "#                 subtimeseries[slot4+key] =''\n",
    "        timeseries.append(subtimeseries)\n",
    "    \n",
    "    MICROBIOLOGYEVENTS.append(timeseries)\n",
    "    sys.stdout.flush()\n",
    "    if(len(MICROBIOLOGYEVENTS)==5000):\n",
    "        np.savez('/home/kanit/mimic3/result/microbioevents'+str(ct),MICROBIOLOGYEVENTS)\n",
    "        ct+=1\n",
    "        MICROBIOLOGYEVENTS=[]\n",
    "        \n",
    "np.savez('/home/kanit/mimic3/result/microbioevents'+str(ct),MICROBIOLOGYEVENTS)\n",
    "print 'done'    "
   ]
  },
  {
   "cell_type": "code",
   "execution_count": null,
   "metadata": {
    "collapsed": false
   },
   "outputs": [],
   "source": []
  },
  {
   "cell_type": "code",
   "execution_count": null,
   "metadata": {
    "collapsed": false
   },
   "outputs": [],
   "source": []
  },
  {
   "cell_type": "code",
   "execution_count": null,
   "metadata": {
    "collapsed": false
   },
   "outputs": [],
   "source": []
  },
  {
   "cell_type": "code",
   "execution_count": null,
   "metadata": {
    "collapsed": false
   },
   "outputs": [],
   "source": []
  },
  {
   "cell_type": "code",
   "execution_count": null,
   "metadata": {
    "collapsed": true
   },
   "outputs": [],
   "source": []
  }
 ],
 "metadata": {
  "kernelspec": {
   "display_name": "Python 2",
   "language": "python",
   "name": "python2"
  },
  "language_info": {
   "codemirror_mode": {
    "name": "ipython",
    "version": 2
   },
   "file_extension": ".py",
   "mimetype": "text/x-python",
   "name": "python",
   "nbconvert_exporter": "python",
   "pygments_lexer": "ipython2",
   "version": "2.7.6"
  }
 },
 "nbformat": 4,
 "nbformat_minor": 0
}
