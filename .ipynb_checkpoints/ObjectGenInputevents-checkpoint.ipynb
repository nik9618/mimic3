{
 "cells": [
  {
   "cell_type": "code",
   "execution_count": null,
   "metadata": {
    "collapsed": false
   },
   "outputs": [],
   "source": [
    "# DB connection:\n",
    "import psycopg2\n",
    "import datetime\n",
    "import numpy as np\n",
    "import sys\n",
    "try:\n",
    "    # conn = psycopg2.connect(\"dbname='mimic' user='kanit' host='melady1.usc.edu' password='abcd6712'\")\n",
    "    conn = psycopg2.connect(\"dbname='mimic' user='kanit' host='localhost' password='abcd6712'\")\n",
    "except:\n",
    "    print \"I am unable to connect to the database\"\n",
    "print 'connection established'"
   ]
  },
  {
   "cell_type": "code",
   "execution_count": null,
   "metadata": {
    "collapsed": false
   },
   "outputs": [],
   "source": [
    "# get admission list (list of hadm_id)\n",
    "ADMISSION_IDS = []\n",
    "cur = conn.cursor()\n",
    "sql = 'SELECT hadm_id FROM mimiciii.ADMISSIONS ORDER BY hadm_id'\n",
    "cur.execute(sql)\n",
    "rows  = cur.fetchall()\n",
    "for row in rows:\n",
    "    ADMISSION_IDS.append(row[0]);\n",
    "\n",
    "print 'total admission : '+ str(len(ADMISSION_IDS))"
   ]
  },
  {
   "cell_type": "code",
   "execution_count": null,
   "metadata": {
    "collapsed": false,
    "scrolled": true
   },
   "outputs": [],
   "source": [
    "# Generate keys\n",
    "cur = conn.cursor()\n",
    "cur.execute('select distinct itemid from mimiciii.inputevents_mv')\n",
    "itemsmv = cur.fetchall()\n",
    "\n",
    "cur = conn.cursor()\n",
    "cur.execute('select distinct itemid from mimiciii.inputevents_cv')\n",
    "itemscv = cur.fetchall()\n",
    "\n",
    "tmp = set()\n",
    "for s in itemsmv: \n",
    "#     if(s ==223258) : print 'wtf'\n",
    "    tmp.add(s[0])\n",
    "    \n",
    "for s in itemscv: \n",
    "#     if(s ==223258) : print 'wtf'\n",
    "    tmp.add(s[0])\n",
    "\n",
    "items=tmp\n",
    "lenitem = len(items)\n",
    "print lenitem\n",
    "\n",
    "items = list(items)\n",
    "map_item = {}\n",
    "for i in range(len(items)):\n",
    "    map_item[items[i]] = i\n",
    "    "
   ]
  },
  {
   "cell_type": "code",
   "execution_count": null,
   "metadata": {
    "collapsed": false,
    "scrolled": true
   },
   "outputs": [],
   "source": [
    "PATIENTS_ADM = [];\n",
    "ADMISSIONS = [];\n",
    "\n",
    "ICD9 = [];\n",
    "DRGCODES = [];\n",
    "PROCEDURES_ICD = [];\n",
    "\n",
    "INPUTEVENTS = [];\n",
    "\n",
    "ct=0\n",
    "# ADMISSION_IDS = [125272]\n",
    "for aid in ADMISSION_IDS:\n",
    "#     ct+=1\n",
    "#     if(ct%100==0):print '.',\n",
    "    print aid\n",
    "\n",
    "    # Generate Admission array\n",
    "    cur = conn.cursor()\n",
    "    sql = 'SELECT * FROM mimiciii.ADMISSIONS WHERE hadm_id = ' + str(aid)\n",
    "    cur.execute(sql)\n",
    "    adm = cur.fetchone()\n",
    "    ADMISSIONS.append(list(adm))\n",
    "    \n",
    "    # Generate Patient array\n",
    "    cur = conn.cursor()\n",
    "    sql = 'SELECT * FROM mimiciii.patients WHERE subject_id = ' + str(adm[1])\n",
    "    cur.execute(sql)\n",
    "    pat = cur.fetchone()\n",
    "    PATIENTS_ADM.append(list(pat))\n",
    "    \n",
    "    # Get birthdate and admission datetime\n",
    "    birthdate = pat[3]\n",
    "    admitdate = adm[3]\n",
    "\n",
    "    # date | value 5561| cgid 5561\n",
    "    slot1 = 1\n",
    "    slot2 = 1 + lenitem\n",
    "    slot3 = 1 + lenitem + lenitem\n",
    "    slot4 = 1 + lenitem + lenitem + lenitem \n",
    "    slot5 = 1 + lenitem + lenitem + lenitem + lenitem\n",
    "    slot6 = 1 + lenitem + lenitem + lenitem + lenitem + lenitem\n",
    "    \n",
    "    cur = conn.cursor()\n",
    "    cur.execute('SELECT * FROM ((SELECT row_id,charttime,itemid,amount,amountuom,cgid,\\'cv\\' FROM mimiciii.inputevents_cv where hadm_id = '+str(aid)+') union (SELECT row_id,endtime,itemid,amount,amountuom,cgid,\\'mv\\' FROM mimiciii.inputevents_mv where hadm_id = '+str(aid)+')) as x ORDER BY x.charttime asc, x.row_id asc')\n",
    "    chs = cur.fetchall()\n",
    "    charttimes = []\n",
    "    charts = []\n",
    "    for c in chs:\n",
    "        if c[1] not in charttimes:\n",
    "            charttimes.append(c[1])\n",
    "            charts.append([])\n",
    "        charts[len(charts)-1].append(c)\n",
    "    timeseries = [];\n",
    "    \n",
    "    for di in range(len(charttimes)):\n",
    "        d = charttimes[di]\n",
    "        #timeseries object\n",
    "        subtimeseries = []\n",
    "        obj = [(d-admitdate).total_seconds()]+[None]*lenitem+[None]*lenitem+['']*lenitem#+[0]\n",
    "        subtimeseries.append(obj)\n",
    "\n",
    "        ins = charts[di]\n",
    "        \n",
    "        for pres in ins:\n",
    "            # row_id,charttime,itemid,amount,amountuom,cgid\n",
    "            itemid = pres[2]\n",
    "            val = pres[3]\n",
    "            valuom = pres[4].replace(' ', '').lower()\n",
    "            cgid = pres[5]\n",
    "            if(val == None and valuom == '' and pres[6]=='cv'): continue;\n",
    "            key = map_item[itemid]\n",
    "            \n",
    "            placed = False;\n",
    "            placeInFinalRow = False;\n",
    "            i=0;\n",
    "            while(not placed):\n",
    "                if(subtimeseries[i][slot1+key] == None):\n",
    "                    if(val != None):\n",
    "                        subtimeseries[i][slot1+key] = val\n",
    "                    subtimeseries[i][slot2+key] = valuom\n",
    "                    subtimeseries[i][slot3+key] = str(cgid) + ' //'\n",
    "                    placed = True\n",
    "                    if(i==len(subtimeseries)-1):\n",
    "                        placeInFinalRow = True\n",
    "                elif(subtimeseries[i][slot2+key] == valuom):\n",
    "                    if(val != None):\n",
    "                        subtimeseries[i][slot1+key] += val\n",
    "                    subtimeseries[i][slot3+key] += str(cgid) + ' //'\n",
    "#                     subtimeseries[i][slot4] += 1\n",
    "                    placed = True\n",
    "                else:\n",
    "                    i+=1\n",
    "                    print aid\n",
    "                    print pres\n",
    "\n",
    "            if(placeInFinalRow):\n",
    "#                 print subtimeseries[len(subtimeseries)-1][0]\n",
    "                obj = [(d-admitdate+datetime.timedelta(0,len(subtimeseries))).total_seconds()]+[None]*lenitem+[None]*lenitem+['']*lenitem #+[0]\n",
    "                subtimeseries.append(obj)\n",
    "#                 print subtimeseries[len(subtimeseries)-1][0]\n",
    "        \n",
    "        timeseries.extend(subtimeseries[0:len(subtimeseries)-1])\n",
    "        \n",
    "    INPUTEVENTS.append(timeseries)\n",
    "    sys.stdout.flush()\n",
    "#     break;\n",
    "    if(len(INPUTEVENTS)==5000):\n",
    "        np.savez('/home/kanit/mimic3/result/inevents'+str(ct),INPUTEVENTS)\n",
    "        ct+=1\n",
    "        INPUTEVENTS=[]\n",
    "\n",
    "np.savez('/home/kanit/mimic3/result/inevents'+str(ct),INPUTEVENTS)\n",
    "print 'done'    "
   ]
  },
  {
   "cell_type": "code",
   "execution_count": null,
   "metadata": {
    "collapsed": true
   },
   "outputs": [],
   "source": []
  },
  {
   "cell_type": "code",
   "execution_count": null,
   "metadata": {
    "collapsed": false
   },
   "outputs": [],
   "source": [
    "# idx=220949\n",
    "# at = 47\n",
    "# print INPUTEVENTS[0][at][0]\n",
    "# print INPUTEVENTS[0][at][1+map_item[idx]+lenitem*0]\n",
    "# print INPUTEVENTS[0][at][1+map_item[idx]+lenitem*1]\n",
    "# print INPUTEVENTS[0][at][1+map_item[idx]+lenitem*2]"
   ]
  },
  {
   "cell_type": "code",
   "execution_count": null,
   "metadata": {
    "collapsed": false
   },
   "outputs": [],
   "source": []
  },
  {
   "cell_type": "code",
   "execution_count": null,
   "metadata": {
    "collapsed": false
   },
   "outputs": [],
   "source": []
  },
  {
   "cell_type": "code",
   "execution_count": null,
   "metadata": {
    "collapsed": false
   },
   "outputs": [],
   "source": []
  },
  {
   "cell_type": "code",
   "execution_count": null,
   "metadata": {
    "collapsed": true
   },
   "outputs": [],
   "source": []
  }
 ],
 "metadata": {
  "kernelspec": {
   "display_name": "Python 2",
   "language": "python",
   "name": "python2"
  },
  "language_info": {
   "codemirror_mode": {
    "name": "ipython",
    "version": 2
   },
   "file_extension": ".py",
   "mimetype": "text/x-python",
   "name": "python",
   "nbconvert_exporter": "python",
   "pygments_lexer": "ipython2",
   "version": "2.7.6"
  }
 },
 "nbformat": 4,
 "nbformat_minor": 0
}
