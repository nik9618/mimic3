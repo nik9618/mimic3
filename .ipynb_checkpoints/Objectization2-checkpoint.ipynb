{
 "cells": [
  {
   "cell_type": "code",
   "execution_count": null,
   "metadata": {
    "collapsed": true
   },
   "outputs": [],
   "source": [
    "# PRESCRIPTIONS\n",
    "# CHARTEVENTS\n",
    "# OUTPUTEVENTS\n",
    "# LABEVENTS\n",
    "# PROCEDUREEVENTS_MV\n",
    "# INPUTEVENTS\n",
    "# MICROBIOLOGYEVENTS"
   ]
  },
  {
   "cell_type": "code",
   "execution_count": null,
   "metadata": {
    "collapsed": true
   },
   "outputs": [],
   "source": [
    "from sets import Set\n",
    "\n",
    "def categorize(obj,c):\n",
    "    categorized_obj = {}\n",
    "    \n",
    "    for i in range(len(obj)):\n",
    "        key = obj[i][c];\n",
    "        if(key not in categorized_obj):\n",
    "            categorized_obj[key] = []\n",
    "        \n",
    "        categorized_obj[key].append(obj[i]);\n",
    "    \n",
    "    return categorized_obj;\n",
    "    "
   ]
  },
  {
   "cell_type": "code",
   "execution_count": 1,
   "metadata": {
    "collapsed": false
   },
   "outputs": [
    {
     "name": "stdout",
     "output_type": "stream",
     "text": [
      "<connection object at 0x7f1c6eda2490; dsn: 'dbname='mimic' user='kanit' host='localhost' password=xxxxxxxxxx', closed: 0>\n"
     ]
    }
   ],
   "source": [
    "import psycopg2\n",
    "\n",
    "try:\n",
    "    # conn = psycopg2.connect(\"dbname='mimic' user='kanit' host='melady1.usc.edu' password='abcd6712'\")\n",
    "    conn = psycopg2.connect(\"dbname='mimic' user='kanit' host='localhost' password='abcd6712'\")\n",
    "except:\n",
    "    print \"I am unable to connect to the database\"\n",
    "print conn\n",
    "\n",
    "cur = conn.cursor()\n",
    "cur.execute('SELECT icd9_code FROM mimiciii.D_ICD_PROCEDURES')\n",
    "icds = cur.fetchall()\n",
    "tmp = []\n",
    "for icd in icds:\n",
    "    tmp.append(icd[0]);\n",
    "icds = tmp;\n",
    "# print icds\n",
    "\n",
    "cur = conn.cursor()\n",
    "cur.execute('SELECT itemid FROM mimiciii.D_ITEMS')\n",
    "ditems = cur.fetchall()\n",
    "tmp = []\n",
    "for item in ditems:\n",
    "    tmp.append(item[0]);\n",
    "ditems = tmp;\n",
    "# print ditems\n",
    "\n",
    "cur = conn.cursor()\n",
    "cur.execute('SELECT itemid FROM mimiciii.D_LABITEMS')\n",
    "dlabitems = cur.fetchall()\n",
    "tmp = []\n",
    "for item in dlabitems:\n",
    "    tmp.append(item[0]);\n",
    "dlabitems = tmp;\n",
    "# print dlabitems\n",
    "\n",
    "cur = conn.cursor()\n",
    "cur.execute('SELECT cgid FROM mimiciii.CAREGIVERS')\n",
    "caregivers = cur.fetchall()\n",
    "tmp = []\n",
    "for cg in caregivers:\n",
    "    tmp.append(cg[0]);\n",
    "caregivers = tmp;\n",
    "# print caregivers\n"
   ]
  },
  {
   "cell_type": "code",
   "execution_count": 2,
   "metadata": {
    "collapsed": false
   },
   "outputs": [
    {
     "name": "stdout",
     "output_type": "stream",
     "text": [
      "DISTINCT PATIENTS : 100\n"
     ]
    }
   ],
   "source": [
    "PATIENTS = [];\n",
    "cur = conn.cursor()\n",
    "cur.execute(\"\"\"SELECT * FROM mimiciii.PATIENTS ORDER BY subject_id limit 100\"\"\")\n",
    "\n",
    "rows = cur.fetchall()\n",
    "\n",
    "for r in rows :\n",
    "    PATIENTS.append(r)\n",
    "\n",
    "print \"DISTINCT PATIENTS : \" + str(len(PATIENTS))"
   ]
  },
  {
   "cell_type": "code",
   "execution_count": 3,
   "metadata": {
    "collapsed": false,
    "scrolled": true
   },
   "outputs": [
    {
     "name": "stdout",
     "output_type": "stream",
     "text": [
      "100 end\n"
     ]
    }
   ],
   "source": [
    "PATIENTS_ADM = [];\n",
    "ADMISSIONS = [];\n",
    "CALLOUTS = [];\n",
    "ICD9 = [];\n",
    "DRGCODES = [];\n",
    "ICUSTAYS = [];\n",
    "SERVICES = [];\n",
    "TRANSFERS = [];\n",
    "CPTEVENTS = [];\n",
    "PROCEDURES_ICD = [];\n",
    "PRESCRIPTIONS = [];\n",
    "\n",
    "ct = 0\n",
    "for i in PATIENTS:\n",
    "    i=list(i)\n",
    "    \n",
    "    ct+=1;\n",
    "    if(ct%100 == 0):\n",
    "        print(ct),\n",
    "    \n",
    "    cur = conn.cursor()\n",
    "    sql = 'SELECT * FROM mimiciii.ADMISSIONS WHERE subject_id='+str(i[1])+' ORDER BY row_id'\n",
    "#     print sql\n",
    "    cur.execute(sql)\n",
    "    rows = cur.fetchall()\n",
    "    \n",
    "    obj = []\n",
    "    for r in rows:\n",
    "        r = list(r)\n",
    "        pradm=list(i)\n",
    "        # PATIENTS\n",
    "        PATIENTS_ADM.append(pradm)\n",
    "#         print i\n",
    "#         print \"...\"\n",
    "        \n",
    "        # ADMISSIONS\n",
    "        ADMISSIONS.append(r)\n",
    "#         print r\n",
    "#         print \"...\"\n",
    "    \n",
    "print 'end'"
   ]
  },
  {
   "cell_type": "code",
   "execution_count": 15,
   "metadata": {
    "collapsed": false
   },
   "outputs": [
    {
     "name": "stdout",
     "output_type": "stream",
     "text": [
      "10  20  30  40  50  60  70  80  90  100  110  120  130  140  end\n"
     ]
    }
   ],
   "source": [
    "CHARTEVENTS = []\n",
    "ct=0\n",
    "for j in range(len(ADMISSIONS)):\n",
    "    \n",
    "    ct+=1;\n",
    "    if(ct%10 == 0):\n",
    "        print(str(ct)+' '),\n",
    "    pid = PATIENTS_ADM[j][1]\n",
    "    chartadm=[]\n",
    "    aid = ADMISSIONS[j][2]\n",
    "\n",
    "    cur = conn.cursor()\n",
    "    cur.execute('SELECT * FROM mimiciii.CHARTEVENT WHERE c.hadm_id='+str(aid)+' AND c.subject_id='+str(pid)+' ORDER BY c.row_id')\n",
    "\n",
    "    charts = cur.fetchall()\n",
    "    for c in charts:\n",
    "        clist = list(c);\n",
    "        chartadm.append(clist)\n",
    "        \n",
    "    CHARTEVENTS.append(chartadm);\n",
    "\n",
    "print 'end'"
   ]
  },
  {
   "cell_type": "code",
   "execution_count": 16,
   "metadata": {
    "collapsed": false
   },
   "outputs": [
    {
     "name": "stdout",
     "output_type": "stream",
     "text": [
      "100  end\n"
     ]
    }
   ],
   "source": [
    "DATETIMEEVENTS = []\n",
    "ct=0\n",
    "for j in range(len(ADMISSIONS)):\n",
    "    ct+=1;\n",
    "    if(ct%100 == 0):\n",
    "        print(str(ct)+' '),\n",
    "    pid = PATIENTS_ADM[j][1]\n",
    "    dtadm=[]\n",
    "    aid = ADMISSIONS[j][2] \n",
    "        \n",
    "    cur = conn.cursor()\n",
    "    cur.execute('SELECT * FROM mimiciii.DATETIMEEVENTS as dt LEFT OUTER JOIN mimiciii.D_ITEMS as d ON dt.itemid = d.itemid LEFT OUTER JOIN mimiciii.CAREGIVERS as cg ON cg.cgid = dt.cgid WHERE dt.hadm_id='+str(aid)+' AND dt.subject_id='+str(pid)+' ORDER BY dt.row_id')\n",
    "    dts = cur.fetchall()\n",
    "\n",
    "    for dt in dts:\n",
    "        dtlist = list(dt)\n",
    "        if(dt[4] in ditems or dt[4] == None):\n",
    "            dtlist.append(0)\n",
    "        else:\n",
    "            print aid\n",
    "            dtlist.append(1)\n",
    "        if(dt[7] in caregivers or dt[7] == None):\n",
    "            dtlist.append(0)\n",
    "        else:\n",
    "            print aid\n",
    "            dtlist.append(1)\n",
    "        dtadm.append(dtlist)\n",
    "\n",
    "    DATETIMEEVENTS.append(dtadm);\n",
    "#     print dtadm\n",
    "#     print '.'\n",
    "    \n",
    "print 'end'"
   ]
  },
  {
   "cell_type": "code",
   "execution_count": 17,
   "metadata": {
    "collapsed": false,
    "scrolled": true
   },
   "outputs": [
    {
     "name": "stdout",
     "output_type": "stream",
     "text": [
      "100  end\n"
     ]
    }
   ],
   "source": [
    "MICROBIOLOGYEVENTS = []\n",
    "ct=0    \n",
    "for j in range(len(ADMISSIONS)):\n",
    "    ct+=1;\n",
    "    if(ct%100 == 0):\n",
    "        print(str(ct)+' '),\n",
    "    pid = PATIENTS_ADM[j][1]\n",
    "    bioadm=[]\n",
    "    aid = ADMISSIONS[j][2] \n",
    "        \n",
    "    cur = conn.cursor()\n",
    "    cur.execute('SELECT * FROM mimiciii.MICROBIOLOGYEVENTS as b LEFT OUTER JOIN mimiciii.D_ITEMS as d1 ON b.spec_itemid = d1.itemid LEFT OUTER JOIN mimiciii.D_ITEMS as d2 ON b.org_itemid = d2.itemid LEFT OUTER JOIN mimiciii.D_ITEMS as d3 ON b.ab_itemid = d3.itemid WHERE b.hadm_id='+str(aid)+' AND b.subject_id='+str(pid)+' ORDER BY b.row_id')\n",
    "    bios = cur.fetchall()\n",
    "    for bio in bios:\n",
    "        blist = list(bio)\n",
    "        \n",
    "        if(bio[5] in ditems or bio[5] == None):\n",
    "            blist.append(0)\n",
    "        else:\n",
    "            print aid\n",
    "            blist.append(1)\n",
    "        \n",
    "        if(bio[7] in ditems or bio[7] == None):\n",
    "            blist.append(0)\n",
    "        else:\n",
    "            print aid\n",
    "            blist.append(1)\n",
    "            \n",
    "        if(bio[10] in ditems or bio[10] == None):\n",
    "            blist.append(0)\n",
    "        else:\n",
    "            print aid\n",
    "            blist.append(1)\n",
    "            \n",
    "        bioadm.append(blist)\n",
    "    \n",
    "    MICROBIOLOGYEVENTS.append(bioadm);\n",
    "\n",
    "print 'end'"
   ]
  },
  {
   "cell_type": "code",
   "execution_count": 18,
   "metadata": {
    "collapsed": false
   },
   "outputs": [
    {
     "name": "stdout",
     "output_type": "stream",
     "text": [
      "100  end\n"
     ]
    }
   ],
   "source": [
    "NOTEEVENTS = []\n",
    "ct=0\n",
    "for j in range(len(ADMISSIONS)):\n",
    "    ct+=1;\n",
    "    if(ct%100 == 0):\n",
    "        print(str(ct)+' '),\n",
    "    pid = PATIENTS_ADM[j][1]\n",
    "    noteadm=[]\n",
    "    aid = ADMISSIONS[j][2] \n",
    "    \n",
    "    cur = conn.cursor()\n",
    "    cur.execute('SELECT * FROM mimiciii.NOTEEVENTS as n LEFT OUTER JOIN mimiciii.CAREGIVERS as cg ON n.cgid = cg.cgid WHERE n.hadm_id='+str(aid)+' AND n.subject_id='+str(pid)+' ORDER BY n.row_id')\n",
    "    notes = cur.fetchall()\n",
    "    for note in notes:\n",
    "        nlist = list(note);\n",
    "        if(note[8] in caregivers or note[8] == None):\n",
    "            nlist.append(0)\n",
    "        else:\n",
    "            print aid\n",
    "            nlist.append(1)\n",
    "        \n",
    "        noteadm.append(nlist)\n",
    "#     print noteadm\n",
    "    NOTEEVENTS.append(noteadm);\n",
    "    \n",
    "print 'end'"
   ]
  },
  {
   "cell_type": "code",
   "execution_count": 19,
   "metadata": {
    "collapsed": false
   },
   "outputs": [
    {
     "name": "stdout",
     "output_type": "stream",
     "text": [
      "100  end\n"
     ]
    }
   ],
   "source": [
    "OUTPUTEVENTS = []\n",
    "ct=0\n",
    "for j in range(len(ADMISSIONS)):\n",
    "    ct+=1;\n",
    "    if(ct%100 == 0):\n",
    "        print(str(ct)+' '),\n",
    "    pid = PATIENTS_ADM[j][1]\n",
    "    outadm=[]\n",
    "    aid = ADMISSIONS[j][2] \n",
    "    \n",
    "    cur = conn.cursor()\n",
    "    cur.execute('SELECT * FROM mimiciii.OUTPUTEVENTS as o LEFT OUTER JOIN mimiciii.CAREGIVERS as cg ON o.cgid = cg.cgid LEFT OUTER JOIN mimiciii.D_ITEMS as d ON o.itemid = d.itemid WHERE o.hadm_id='+str(aid)+' AND o.subject_id='+str(pid)+' ORDER BY o.row_id')\n",
    "    outs = cur.fetchall()\n",
    "    \n",
    "    for out in outs:\n",
    "        olist = list(out);\n",
    "        \n",
    "        if(out[5] in ditems or out[5] == None):\n",
    "            olist.append(0)\n",
    "        else:\n",
    "            print aid\n",
    "            olist.append(1)\n",
    "            \n",
    "        if(out[9] in caregivers or out[9] == None):\n",
    "            olist.append(0)\n",
    "        else:\n",
    "            print aid\n",
    "            olist.append(1)\n",
    "            \n",
    "        outadm.append(olist)\n",
    "\n",
    "    OUTPUTEVENTS.append(outadm);\n",
    "    \n",
    "print 'end'\n"
   ]
  },
  {
   "cell_type": "code",
   "execution_count": 20,
   "metadata": {
    "collapsed": false
   },
   "outputs": [
    {
     "name": "stdout",
     "output_type": "stream",
     "text": [
      "100  end\n"
     ]
    }
   ],
   "source": [
    "LABEVENTS = []\n",
    "ct=0\n",
    "for j in range(len(ADMISSIONS)):\n",
    "    ct+=1;\n",
    "    if(ct%100 == 0):\n",
    "        print(str(ct)+' '),\n",
    "    pid = PATIENTS_ADM[j][1]\n",
    "    labadm=[]\n",
    "    aid = ADMISSIONS[j][2] \n",
    "        \n",
    "    cur = conn.cursor()\n",
    "    cur.execute('SELECT * FROM mimiciii.LABEVENTS as l LEFT OUTER JOIN mimiciii.D_LABITEMS as d ON l.itemid = d.itemid WHERE l.hadm_id='+str(aid)+' AND l.subject_id='+str(pid)+' ORDER BY l.row_id')\n",
    "    labs = cur.fetchall()\n",
    "    \n",
    "    for lab in labs:\n",
    "        llist = list(lab);\n",
    "        \n",
    "        if(lab[3] in dlabitems or lab[3] == None):\n",
    "            llist.append(0)\n",
    "        else:\n",
    "            print aid\n",
    "            llist.append(1)\n",
    "            \n",
    "        labadm.append(llist)\n",
    "        \n",
    "    LABEVENTS.append(labadm);\n",
    "    \n",
    "print 'end'"
   ]
  },
  {
   "cell_type": "code",
   "execution_count": 21,
   "metadata": {
    "collapsed": false
   },
   "outputs": [
    {
     "name": "stdout",
     "output_type": "stream",
     "text": [
      "100  end\n"
     ]
    }
   ],
   "source": [
    "PROCEDUREEVENTS_MV = []\n",
    "ct=0\n",
    "for j in range(len(ADMISSIONS)):\n",
    "    ct+=1;\n",
    "    if(ct%100 == 0):\n",
    "        print(str(ct)+' '),\n",
    "    pid = PATIENTS_ADM[j][1]\n",
    "    promvadm=[]\n",
    "    aid = ADMISSIONS[j][2] \n",
    "    \n",
    "    cur = conn.cursor()\n",
    "    cur.execute('SELECT * FROM mimiciii.PROCEDUREEVENTS_MV as p LEFT OUTER JOIN mimiciii.D_ITEMS as d ON p.itemid = d.itemid LEFT OUTER JOIN mimiciii.CAREGIVERS as cg ON cg.cgid = p.cgid WHERE p.hadm_id='+str(aid)+' AND p.subject_id='+str(pid)+' ORDER BY p.row_id')\n",
    "    promvs = cur.fetchall()\n",
    "    \n",
    "    for promv in promvs:\n",
    "        plist = list(promv);\n",
    "        \n",
    "        if(promv[6] in ditems or promv[6] == None):\n",
    "            plist.append(0)\n",
    "        else:\n",
    "            print aid\n",
    "            plist.append(1)\n",
    "            \n",
    "        if(promv[12] in caregivers or promv[12] == None):\n",
    "            plist.append(0)\n",
    "        else:\n",
    "            print aid\n",
    "            plist.append(1)\n",
    "            \n",
    "        promvadm.append(plist)\n",
    "        \n",
    "    PROCEDUREEVENTS_MV.append(promvadm);\n",
    "\n",
    "print 'end'"
   ]
  },
  {
   "cell_type": "code",
   "execution_count": 22,
   "metadata": {
    "collapsed": false
   },
   "outputs": [
    {
     "name": "stdout",
     "output_type": "stream",
     "text": [
      "100  end\n"
     ]
    }
   ],
   "source": [
    "INPUTEVENTS = []\n",
    "ct=0\n",
    "for j in range(len(ADMISSIONS)):\n",
    "    ct+=1;\n",
    "    if(ct%100 == 0):\n",
    "        print(str(ct)+' '),\n",
    "    pid = PATIENTS_ADM[j][1]\n",
    "    inputadm = []\n",
    "    aid = ADMISSIONS[j][2]     \n",
    "        \n",
    "    cur = conn.cursor()\n",
    "    cur.execute('SELECT \\'CV\\',cv.row_id,cv.SUBJECT_ID,cv.HADM_ID,cv.ICUSTAY_ID,NULL,NULL,cv.ITEMID,cv.AMOUNT,cv.AMOUNTUOM,cv.RATE,cv.RATEUOM,cv.STORETIME,cv.CGID,cv.ORDERID,cv.LINKORDERID,NULL,NULL,NULL,NULL,NULL,NULL,NULL,NULL,NULL,NULL,NULL,NULL,NULL,NULL,cv.ORIGINALAMOUNT,cv.ORIGINALRATE,cv.ORIGINALROUTE,cv.ORIGINALSITE,cv.STOPPED,cv.NEWBOTTLE,cv.ORIGINALRATEUOM,cv.ORIGINALAMOUNTUOM,cv.CHARTTIME, d.*, c.* FROM mimiciii.INPUTEVENTS_CV as cv LEFT OUTER JOIN mimiciii.D_ITEMS as d ON d.itemid = cv.itemid LEFT OUTER JOIN mimiciii.CAREGIVERS as c ON c.cgid = cv.cgid WHERE cv.hadm_id='+str(aid)+' AND cv.subject_id='+str(pid)+' ORDER BY cv.row_id')\n",
    "    incvs = cur.fetchall()\n",
    "#     print len(incvs)\n",
    "    for incv in incvs:\n",
    "        ilist = list(incv);\n",
    "        \n",
    "        if(incv[7] in ditems or incv[7] == None):\n",
    "            ilist.append(0)\n",
    "        else:\n",
    "            ilist.append(1)\n",
    "            \n",
    "        if(incv[13] in caregivers or incv[13] == None):\n",
    "            ilist.append(0)\n",
    "        else:\n",
    "            ilist.append(1)\n",
    "        \n",
    "        inputadm.append(ilist)\n",
    "#     print inputadm\n",
    "    \n",
    "    cur = conn.cursor()\n",
    "    cur.execute('SELECT \\'MV\\',mv.row_id,mv.SUBJECT_ID,mv.HADM_ID,mv.ICUSTAY_ID,mv.STARTTIME,mv.ENDTIME,mv.ITEMID,mv.AMOUNT,mv.AMOUNTUOM,mv.RATE,mv.RATEUOM,mv.STORETIME,mv.CGID,mv.ORDERID,mv.LINKORDERID,mv.ORDERCATEGORYNAME,mv.SECONDARYORDERCATEGORYNAME,mv.ORDERCOMPONENTTYPEDESCRIPTION,mv.ORDERCATEGORYDESCRIPTION,mv.PATIENTWEIGHT,mv.TOTALAMOUNT,mv.TOTALAMOUNTUOM,mv.ISOPENBAG,mv.CONTINUEINNEXTDEPT,mv.CANCELREASON,mv.STATUSDESCRIPTION,mv.COMMENTS_EDITEDBY,mv.COMMENTS_CANCELEDBY,mv.COMMENTS_DATE,mv.ORIGINALAMOUNT,mv.ORIGINALRATE,NULL,NULL,NULL,NULL,NULL,NULL,NULL, d.*, c.* FROM mimiciii.INPUTEVENTS_MV as mv LEFT OUTER JOIN mimiciii.D_ITEMS as d ON d.itemid = mv.itemid LEFT OUTER JOIN mimiciii.CAREGIVERS as c ON c.cgid = mv.cgid WHERE mv.hadm_id='+str(aid)+' AND mv.subject_id='+str(pid)+' ORDER BY mv.row_id')\n",
    "    inmvs = cur.fetchall()\n",
    "#     print len(inmvs)\n",
    "    for inmv in inmvs:\n",
    "        ilist = list(inmv);\n",
    "        \n",
    "        if(inmv[7] in ditems or inmv[7] == None):\n",
    "            ilist.append(0)\n",
    "        else:\n",
    "            ilist.append(1)\n",
    "            \n",
    "        if(inmv[13] in caregivers or inmv[13] == None):\n",
    "            ilist.append(0)\n",
    "        else:\n",
    "            ilist.append(1)\n",
    "            \n",
    "        inputadm.append(ilist)\n",
    "        \n",
    "    \n",
    "    #sort\n",
    "    def compare(item1, item2):\n",
    "        \n",
    "        if(item1[0] == 'CV'):\n",
    "            i1 = item1[38];\n",
    "        else:\n",
    "            i1 = item1[5];\n",
    "            \n",
    "        if(item2[0] == 'CV'):\n",
    "            i2 = item2[38];\n",
    "        else:\n",
    "            i2 = item2[5];\n",
    "        \n",
    "        if i1 < i2:\n",
    "            return -1\n",
    "        elif i1 > i2:\n",
    "            return 1\n",
    "        else:\n",
    "            return 0\n",
    "\n",
    "    inputadm = sorted(inputadm,cmp=compare)\n",
    "#     for x in inputadm:\n",
    "#         if(x[0]=='CV'):\n",
    "#             print 'cv'+ str(x[38]);\n",
    "#         else:\n",
    "#             print 'mv'+str(x[5]);\n",
    "    INPUTEVENTS.append(inputadm);\n",
    "    \n",
    "print 'end'\n",
    "    "
   ]
  },
  {
   "cell_type": "code",
   "execution_count": 23,
   "metadata": {
    "collapsed": false
   },
   "outputs": [
    {
     "name": "stdout",
     "output_type": "stream",
     "text": [
      "end\n"
     ]
    }
   ],
   "source": [
    "# date adjustment \n",
    "def append(obj, i, j, dob):\n",
    "    if(obj[i][j] == None):\n",
    "        obj[i].append(None)\n",
    "        obj[i].append(None)\n",
    "    else:\n",
    "        x=(obj[i][j] - dob)\n",
    "        obj[i].append(x.days);\n",
    "        obj[i].append(x.seconds);\n",
    "    \n",
    "for i in range(len(ADMISSIONS)):\n",
    "    dob = PATIENTS_ADM[i][3]\n",
    "    amt = ADMISSIONS[i][3]\n",
    "    \n",
    "    # PATIENTS_ADM\n",
    "    append(PATIENTS_ADM,i,4,dob)\n",
    "    append(PATIENTS_ADM,i,5,dob)\n",
    "    append(PATIENTS_ADM,i,6,dob)\n",
    "    \n",
    "    # ADMISSIONS = [];\n",
    "    append(ADMISSIONS,i,3,dob)\n",
    "    append(ADMISSIONS,i,4,amt)\n",
    "    append(ADMISSIONS,i,5,dob)\n",
    "    append(ADMISSIONS,i,14,amt)\n",
    "    append(ADMISSIONS,i,15,amt)\n",
    "    \n",
    "    # CALLOUTS = [];\n",
    "    for j in range(len(CALLOUTS[i])):\n",
    "        append(CALLOUTS[i],j,18,amt)\n",
    "        append(CALLOUTS[i],j,19,amt)\n",
    "        append(CALLOUTS[i],j,20,amt)\n",
    "        append(CALLOUTS[i],j,21,amt)\n",
    "        append(CALLOUTS[i],j,22,amt)\n",
    "        append(CALLOUTS[i],j,23,amt)\n",
    "\n",
    "    # ICD9 = [];\n",
    "    # DRGCODES = [];\n",
    "    # ICUSTAYS = [];\n",
    "    for j in range(len(ICUSTAYS[i])):\n",
    "        append(ICUSTAYS[i],j,9,amt)\n",
    "        append(ICUSTAYS[i],j,10,amt)\n",
    "\n",
    "    # SERVICES = [];\n",
    "    for j in range(len(SERVICES[i])):\n",
    "        append(SERVICES[i],j,3,amt)\n",
    "    \n",
    "    # TRANSFERS = [];\n",
    "    for j in range(len(TRANSFERS[i])):\n",
    "        append(TRANSFERS[i],j,10,amt)\n",
    "        append(TRANSFERS[i],j,11,amt)\n",
    "\n",
    "    # CPTEVENTS = [];\n",
    "    # PROCEDURES_ICD = [];\n",
    "    # PRESCRIPTIONS = [];\n",
    "    for j in range(len(PRESCRIPTIONS[i])):\n",
    "        append(PRESCRIPTIONS[i],j,4,amt)\n",
    "        append(PRESCRIPTIONS[i],j,5,amt)\n",
    "      \n",
    "    # PROCEDUREEVENTS_MV\n",
    "    for j in range(len(PROCEDUREEVENTS_MV[i])):\n",
    "        append(PROCEDUREEVENTS_MV[i],j,4,amt)\n",
    "        append(PROCEDUREEVENTS_MV[i],j,5,amt)\n",
    "        append(PROCEDUREEVENTS_MV[i],j,11,amt)\n",
    "        append(PROCEDUREEVENTS_MV[i],j,24,amt)\n",
    "    \n",
    "    # LABEVENTS\n",
    "    for j in range(len(LABEVENTS[i])):\n",
    "        append(LABEVENTS[i],j,4,amt)\n",
    "    \n",
    "    # OUTPUTEVENTS    \n",
    "    for j in range(len(OUTPUTEVENTS[i])):\n",
    "        append(OUTPUTEVENTS[i],j,4,amt)\n",
    "        append(OUTPUTEVENTS[i],j,8,amt)\n",
    "    \n",
    "    # NOTEEVENTS\n",
    "    for j in range(len(NOTEEVENTS[i])):\n",
    "        append(NOTEEVENTS[i],j,3,amt)\n",
    "        append(NOTEEVENTS[i],j,4,amt)\n",
    "        append(NOTEEVENTS[i],j,5,amt)\n",
    "    \n",
    "    # MICROBIOLOGYEVENTS\n",
    "    for j in range(len(MICROBIOLOGYEVENTS[i])):\n",
    "        append(MICROBIOLOGYEVENTS[i],j,3,amt)\n",
    "        append(MICROBIOLOGYEVENTS[i],j,4,amt)\n",
    "        \n",
    "    # DATETIMEEVENTS\n",
    "    for j in range(len(DATETIMEEVENTS[i])):\n",
    "        append(DATETIMEEVENTS[i],j,5,amt)\n",
    "        append(DATETIMEEVENTS[i],j,6,amt)\n",
    "        append(DATETIMEEVENTS[i],j,8,amt)\n",
    "    \n",
    "    # CHARTEVENTS\n",
    "#     for j in range(len(CHARTEVENTS[i])):\n",
    "#         append(CHARTEVENTS[i],j,5,amt)\n",
    "#         append(CHARTEVENTS[i],j,6,amt)\n",
    "\n",
    "    # INPUTEVENTS\n",
    "    for j in range(len(INPUTEVENTS[i])):\n",
    "        append(INPUTEVENTS[i],j,5,amt)\n",
    "        append(INPUTEVENTS[i],j,6,amt)\n",
    "        append(INPUTEVENTS[i],j,12,amt)\n",
    "        append(INPUTEVENTS[i],j,29,amt)\n",
    "        append(INPUTEVENTS[i],j,38,amt)   \n",
    "\n",
    "print 'end'\n"
   ]
  },
  {
   "cell_type": "code",
   "execution_count": null,
   "metadata": {
    "collapsed": false,
    "scrolled": true
   },
   "outputs": [],
   "source": [
    "import xlwt\n",
    "\n",
    "def visualizeData(i):\n",
    "    print PATIENTS_ADM[i]\n",
    "    print ADMISSIONS[i];\n",
    "#     print CALLOUTS[i];\n",
    "#     print ICD9[i];\n",
    "#     print DRGCODES[i];\n",
    "#     print ICUSTAYS[i];\n",
    "#     print SERVICES[i];\n",
    "#     print TRANSFERS[i];\n",
    "#     print CPTEVENTS[i];\n",
    "#     print PROCEDURES_ICD[i];\n",
    "#     print PRESCRIPTIONS[i];\n",
    "\n",
    "#     print PROCEDUREEVENTS_MV[i];\n",
    "#     print LABEVENTS[i];\n",
    "#     print OUTPUTEVENTS[i];\n",
    "#     print NOTEEVENTS[i];\n",
    "#     print MICROBIOLOGYEVENTS[i];\n",
    "#     print DATETIMEEVENTS[i];\n",
    "\n",
    "#     print CHARTEVENTS[i];\n",
    "#     print INPUTEVENTS[i]\n",
    "\n",
    "    print '\\n\\n\\n'\n",
    "\n",
    "# for i in range(150):\n",
    "#     visualizeData(i)\n"
   ]
  },
  {
   "cell_type": "code",
   "execution_count": null,
   "metadata": {
    "collapsed": false
   },
   "outputs": [],
   "source": [
    "# import numpy as np\n",
    "# np.save('result/PATIENTS_ADM',PATIENTS_ADM)\n",
    "# np.save('result/ADMISSIONS',ADMISSIONS)\n",
    "# np.save('result/CALLOUTS',CALLOUTS)\n",
    "# np.save('result/ICD9',ICD9)\n",
    "# np.save('result/DRGCODES',DRGCODES)\n",
    "# np.save('result/ICUSTAYS',ICUSTAYS)\n",
    "# np.save('result/SERVICES',SERVICES)\n",
    "# np.save('result/TRANSFERS',TRANSFERS)\n",
    "# np.save('result/CPTEVENTS',CPTEVENTS)\n",
    "# np.save('result/PROCEDURES_ICD',PROCEDURES_ICD)\n",
    "# np.save('result/PRESCRIPTIONS',PRESCRIPTIONS)\n"
   ]
  },
  {
   "cell_type": "code",
   "execution_count": null,
   "metadata": {
    "collapsed": false
   },
   "outputs": [],
   "source": [
    "\n",
    "# np.save('result/PROCEDUREEVENTS_MV',PROCEDUREEVENTS_MV)\n",
    "# np.save('result/LABEVENTS',LABEVENTS)\n",
    "# np.save('result/OUTPUTEVENTS',OUTPUTEVENTS)\n",
    "# np.save('result/NOTEEVENTS',NOTEEVENTS)\n",
    "# np.save('result/MICROBIOLOGYEVENTS',MICROBIOLOGYEVENTS)\n",
    "# np.save('result/DATETIMEEVENTS',DATETIMEEVENTS)\n",
    "\n",
    "# # np.save('result/CHARTEVENTS',CHARTEVENTS)\n",
    "# np.save('result/INPUTEVENTS',INPUTEVENTS)"
   ]
  },
  {
   "cell_type": "code",
   "execution_count": null,
   "metadata": {
    "collapsed": false
   },
   "outputs": [],
   "source": [
    "# cte = np.load('result/CHARTEVENTS0.npy')"
   ]
  },
  {
   "cell_type": "code",
   "execution_count": null,
   "metadata": {
    "collapsed": false
   },
   "outputs": [],
   "source": [
    "cte[0][0]"
   ]
  },
  {
   "cell_type": "code",
   "execution_count": 9,
   "metadata": {
    "collapsed": false
   },
   "outputs": [
    {
     "data": {
      "text/plain": [
       "12911"
      ]
     },
     "execution_count": 9,
     "metadata": {},
     "output_type": "execute_result"
    }
   ],
   "source": [
    "len(ADMISSIONS)"
   ]
  },
  {
   "cell_type": "code",
   "execution_count": null,
   "metadata": {
    "collapsed": true
   },
   "outputs": [],
   "source": []
  }
 ],
 "metadata": {
  "kernelspec": {
   "display_name": "Python 2",
   "language": "python",
   "name": "python2"
  },
  "language_info": {
   "codemirror_mode": {
    "name": "ipython",
    "version": 2
   },
   "file_extension": ".py",
   "mimetype": "text/x-python",
   "name": "python",
   "nbconvert_exporter": "python",
   "pygments_lexer": "ipython2",
   "version": "2.7.6"
  }
 },
 "nbformat": 4,
 "nbformat_minor": 0
}
