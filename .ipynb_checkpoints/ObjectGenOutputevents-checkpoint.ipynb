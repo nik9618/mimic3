{
 "cells": [
  {
   "cell_type": "code",
   "execution_count": null,
   "metadata": {
    "collapsed": false
   },
   "outputs": [],
   "source": [
    "# DB connection:\n",
    "import psycopg2\n",
    "import datetime\n",
    "import sys\n",
    "import numpy as np\n",
    "try:\n",
    "    # conn = psycopg2.connect(\"dbname='mimic' user='kanit' host='melady1.usc.edu' password='abcd6712'\")\n",
    "    conn = psycopg2.connect(\"dbname='mimic' user='kanit' host='localhost' password='abcd6712'\")\n",
    "except:\n",
    "    print \"I am unable to connect to the database\"\n",
    "print 'connection established'"
   ]
  },
  {
   "cell_type": "code",
   "execution_count": null,
   "metadata": {
    "collapsed": false
   },
   "outputs": [],
   "source": [
    "# get admission list (list of hadm_id)\n",
    "ADMISSION_IDS = []\n",
    "cur = conn.cursor()\n",
    "sql = 'SELECT hadm_id FROM mimiciii.ADMISSIONS ORDER BY hadm_id'\n",
    "cur.execute(sql)\n",
    "rows  = cur.fetchall()\n",
    "for row in rows:\n",
    "    ADMISSION_IDS.append(row[0]);\n",
    "\n",
    "print 'total admission : '+ str(len(ADMISSION_IDS))"
   ]
  },
  {
   "cell_type": "code",
   "execution_count": null,
   "metadata": {
    "collapsed": false,
    "scrolled": true
   },
   "outputs": [],
   "source": [
    "# Generate keys\n",
    "cur = conn.cursor()\n",
    "cur.execute('select distinct itemid from mimiciii.outputevents')\n",
    "items = cur.fetchall()\n",
    "\n",
    "tmp = []\n",
    "for s in items: tmp.append(s[0])\n",
    "items=tmp\n",
    "\n",
    "lenitem = len(items)\n",
    "\n",
    "map_item = {}\n",
    "\n",
    "for i in range(len(items)):\n",
    "    map_item[items[i]] = i"
   ]
  },
  {
   "cell_type": "code",
   "execution_count": null,
   "metadata": {
    "collapsed": false,
    "scrolled": true
   },
   "outputs": [],
   "source": [
    "PATIENTS_ADM = [];\n",
    "ADMISSIONS = [];\n",
    "\n",
    "ICD9 = [];\n",
    "DRGCODES = [];\n",
    "PROCEDURES_ICD = [];\n",
    "\n",
    "OUTPUTEVENTS = [];\n",
    "\n",
    "ct=0\n",
    "# ADMISSION_IDS = [100290]\n",
    "for aid in ADMISSION_IDS:\n",
    "#     ct+=1\n",
    "#     if(ct%100==0):print '.',\n",
    "    print aid\n",
    "\n",
    "    # Generate Admission array\n",
    "    cur = conn.cursor()\n",
    "    sql = 'SELECT * FROM mimiciii.ADMISSIONS WHERE hadm_id = ' + str(aid)\n",
    "    cur.execute(sql)\n",
    "    adm = cur.fetchone()\n",
    "    ADMISSIONS.append(list(adm))\n",
    "    \n",
    "    # Generate Patient array\n",
    "    cur = conn.cursor()\n",
    "    sql = 'SELECT * FROM mimiciii.patients WHERE subject_id = ' + str(adm[1])\n",
    "    cur.execute(sql)\n",
    "    pat = cur.fetchone()\n",
    "    PATIENTS_ADM.append(list(pat))\n",
    "    \n",
    "    # Get birthdate and admission datetime\n",
    "    birthdate = pat[3]\n",
    "    admitdate = adm[3]\n",
    "\n",
    "    # date | valNum 5561| valTxt 5561 | uomNum 5561| uomTxt 5561 | cgid 5561| cgid 5561\n",
    "    slot1 = 1\n",
    "    slot2 = 1 + lenitem\n",
    "    slot3 = 1 + lenitem + lenitem\n",
    "    slot4 = 1 + lenitem + lenitem + lenitem\n",
    "    \n",
    "    cur = conn.cursor()\n",
    "    cur.execute('SELECT charttime,itemid,value,cgid FROM mimiciii.outputevents WHERE hadm_id='+str(aid)+' ORDER BY charttime ASC, row_id asc')\n",
    "    chs = cur.fetchall()\n",
    "    charttimes = []\n",
    "    charts = []\n",
    "    for c in chs:\n",
    "        if c[0] not in charttimes:\n",
    "            charttimes.append(c[0])\n",
    "            charts.append([])\n",
    "        charts[len(charts)-1].append(c)\n",
    "#     print len(charttimes)\n",
    "    timeseries = [];\n",
    "    \n",
    "    # logic = \n",
    "    # 1 put first down\n",
    "    # if duplicated\n",
    "    # try to merge (numeric + same unit)\n",
    "    # unreadable -> text field\n",
    "    # different unit = next row\n",
    "    for di in range(len(charttimes)):\n",
    "        d = charttimes[di]\n",
    "        #timeseries object\n",
    "#         subtimeseries = []\n",
    "#         obj = [d]+[None]*lenitem+['']*lenitem+['']*lenitem+[0]\n",
    "#         subtimeseries.append(obj)\n",
    "        subtimeseries = [(d-admitdate).total_seconds()]+[None]*lenitem+['']*lenitem#+['']*lenitem+[0]\n",
    "        ins = charts[di]\n",
    "        \n",
    "        for pres in ins:\n",
    "            itemid = pres[1]\n",
    "            val = pres[2]\n",
    "            cgid = pres[3]\n",
    "            \n",
    "            key = map_item[itemid] \n",
    "            \n",
    "#             placed = False;\n",
    "#             placeInFinalRow = False;\n",
    "#             i=0;\n",
    "#             while(not placed):\n",
    "            if(subtimeseries[slot1+key] == None):\n",
    "                if(val != None):\n",
    "                    subtimeseries[slot1+key] = val\n",
    "                subtimeseries[slot2+key] += str(cgid) + \" //\"\n",
    "            else:\n",
    "                if(val != None):\n",
    "                    subtimeseries[slot1+key] += val\n",
    "                subtimeseries[slot2+key] += str(cgid) + \" //\"\n",
    "#                 subtimeseries[slot3] = 1\n",
    "                \n",
    "#                 if(i==len(subtimeseries)-1):\n",
    "#                     placeInFinalRow = True\n",
    "#                 elif(subtimeseries[i][slot2+key] == cgid):\n",
    "#                     subtimeseries[i][slot1+key] += val\n",
    "#                     subtimeseries[i-1][slot3] += 1\n",
    "#                     subtimeseries[i][slot3] += 1\n",
    "#                     placed = True\n",
    "#                 else:\n",
    "#                     i+=1\n",
    "\n",
    "#             if(placeInFinalRow):\n",
    "#                 obj = [d]+[None]*lenitem+['']*lenitem+[0]\n",
    "#                 subtimeseries.append(obj)\n",
    "        \n",
    "        timeseries.append(subtimeseries)\n",
    "#         timeseries.extend(subtimeseries[0:len(subtimeseries)-1])\n",
    "        \n",
    "    OUTPUTEVENTS.append(timeseries)\n",
    "    sys.stdout.flush()\n",
    "#     break;\n",
    "    if(len(OUTPUTEVENTS)==5000):\n",
    "        np.savez('/home/kanit/mimic3/result/outevents'+str(ct),OUTPUTEVENTS)\n",
    "        ct+=1\n",
    "        OUTPUTEVENTS=[]\n",
    "\n",
    "np.savez('/home/kanit/mimic3/result/outevents'+str(ct),OUTPUTEVENTS)\n",
    "print 'done'    "
   ]
  },
  {
   "cell_type": "code",
   "execution_count": null,
   "metadata": {
    "collapsed": false
   },
   "outputs": [],
   "source": []
  },
  {
   "cell_type": "code",
   "execution_count": null,
   "metadata": {
    "collapsed": false
   },
   "outputs": [],
   "source": []
  },
  {
   "cell_type": "code",
   "execution_count": null,
   "metadata": {
    "collapsed": false
   },
   "outputs": [],
   "source": []
  },
  {
   "cell_type": "code",
   "execution_count": null,
   "metadata": {
    "collapsed": false
   },
   "outputs": [],
   "source": []
  },
  {
   "cell_type": "code",
   "execution_count": null,
   "metadata": {
    "collapsed": true
   },
   "outputs": [],
   "source": []
  }
 ],
 "metadata": {
  "kernelspec": {
   "display_name": "Python 2",
   "language": "python",
   "name": "python2"
  },
  "language_info": {
   "codemirror_mode": {
    "name": "ipython",
    "version": 2
   },
   "file_extension": ".py",
   "mimetype": "text/x-python",
   "name": "python",
   "nbconvert_exporter": "python",
   "pygments_lexer": "ipython2",
   "version": "2.7.6"
  }
 },
 "nbformat": 4,
 "nbformat_minor": 0
}
