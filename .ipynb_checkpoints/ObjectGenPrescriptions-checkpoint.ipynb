{
 "cells": [
  {
   "cell_type": "code",
   "execution_count": 154,
   "metadata": {
    "collapsed": false
   },
   "outputs": [
    {
     "name": "stdout",
     "output_type": "stream",
     "text": [
      "connection established\n"
     ]
    }
   ],
   "source": [
    "# DB connection:\n",
    "import psycopg2\n",
    "import datetime\n",
    "try:\n",
    "    # conn = psycopg2.connect(\"dbname='mimic' user='kanit' host='melady1.usc.edu' password='abcd6712'\")\n",
    "    conn = psycopg2.connect(\"dbname='mimic' user='kanit' host='localhost' password='abcd6712'\")\n",
    "except:\n",
    "    print \"I am unable to connect to the database\"\n",
    "print 'connection established'"
   ]
  },
  {
   "cell_type": "code",
   "execution_count": 155,
   "metadata": {
    "collapsed": false
   },
   "outputs": [
    {
     "name": "stdout",
     "output_type": "stream",
     "text": [
      "total admission : 58976\n"
     ]
    }
   ],
   "source": [
    "# get admission list (list of hadm_id)\n",
    "ADMISSION_IDS = []\n",
    "cur = conn.cursor()\n",
    "sql = 'SELECT hadm_id FROM mimiciii.ADMISSIONS ORDER BY hadm_id'\n",
    "cur.execute(sql)\n",
    "rows  = cur.fetchall()\n",
    "for row in rows:\n",
    "    ADMISSION_IDS.append(row[0]);\n",
    "\n",
    "print 'total admission : '+ str(len(ADMISSION_IDS))"
   ]
  },
  {
   "cell_type": "code",
   "execution_count": 156,
   "metadata": {
    "collapsed": false,
    "scrolled": false
   },
   "outputs": [
    {
     "name": "stdout",
     "output_type": "stream",
     "text": [
      "100343\n",
      "done\n"
     ]
    }
   ],
   "source": [
    "PATIENTS_ADM = [];\n",
    "ADMISSIONS = [];\n",
    "\n",
    "ICD9 = [];\n",
    "DRGCODES = [];\n",
    "PROCEDURES_ICD = [];\n",
    "\n",
    "PRESCRIPTIONS = [];\n",
    "\n",
    "ct=0\n",
    "# ADMISSION_IDS = [100343]\n",
    "for aid in ADMISSION_IDS:\n",
    "#     ct+=1\n",
    "#     if(ct%100==0):print '.',\n",
    "    print aid\n",
    "\n",
    "    # Generate Admission array\n",
    "    cur = conn.cursor()\n",
    "    sql = 'SELECT * FROM mimiciii.ADMISSIONS WHERE hadm_id = ' + str(aid)\n",
    "    cur.execute(sql)\n",
    "    adm = cur.fetchone()\n",
    "    ADMISSIONS.append(list(adm))\n",
    "\n",
    "    # Generate Patient array\n",
    "    cur = conn.cursor()\n",
    "    sql = 'SELECT * FROM mimiciii.patients WHERE subject_id = ' + str(adm[1])\n",
    "    cur.execute(sql)\n",
    "    pat = cur.fetchone()\n",
    "    PATIENTS_ADM.append(list(pat))\n",
    "    \n",
    "#     # Generate ICD9 array\n",
    "#     cur = conn.cursor()\n",
    "#     sql = 'SELECT * FROM mimiciii.diagnoses_icd WHERE hadm_id = ' + str(aid) +' ORDER BY seq_num ASC'\n",
    "#     cur.execute(sql)\n",
    "#     rows = cur.fetchall()\n",
    "#     arr = []\n",
    "#     for row in rows:\n",
    "#         arr.append(list(row))\n",
    "#     ICD9.append(arr)\n",
    "    \n",
    "#     # Generate DRGCODES array\n",
    "#     cur = conn.cursor()\n",
    "#     sql = 'SELECT * FROM mimiciii.drgcodes WHERE hadm_id = ' + str(aid) + ' ORDER BY row_id ASC' \n",
    "#     cur.execute(sql)\n",
    "#     rows = cur.fetchall()\n",
    "#     arr = []\n",
    "#     for row in rows:\n",
    "#         arr.append(list(row))\n",
    "#     DRGCODES.append(arr)\n",
    "    \n",
    "#     # Generate ProcedureICD array\n",
    "#     cur = conn.cursor()\n",
    "#     sql = 'SELECT * FROM mimiciii.procedures_icd WHERE hadm_id = ' + str(aid)\n",
    "#     cur.execute(sql)\n",
    "#     rows = cur.fetchall()\n",
    "#     arr = []\n",
    "#     for row in rows:\n",
    "#         arr.append(list(row))\n",
    "#     PROCEDURES_ICD.append(arr)\n",
    "\n",
    "    # Get birthdate and admission datetime\n",
    "    birthdate = pat[3]\n",
    "    admitdate = adm[3]\n",
    "\n",
    "    # Generate Prescriptions array\n",
    "    fdcs = []\n",
    "    cur = conn.cursor()\n",
    "    cur.execute('SELECT distinct formulary_drug_cd FROM mimiciii.PRESCRIPTIONS WHERE formulary_drug_cd != \\'\\'')\n",
    "    fdc = cur.fetchall()\n",
    "    for f in fdc:\n",
    "        fdcs.append(f[0])\n",
    "    \n",
    "    cur = conn.cursor()\n",
    "    cur.execute('SELECT distinct drug as a FROM mimiciii.PRESCRIPTIONS WHERE formulary_drug_cd=\\'\\'')\n",
    "    fdc = cur.fetchall()\n",
    "    for f in fdc:\n",
    "        procf = f[0].lower().replace(' ','')\n",
    "        if(procf not in fdcs):\n",
    "            fdcs.append(procf)\n",
    "    \n",
    "    lenfdc = len(fdcs)\n",
    "    map_fdc = {}\n",
    "    for i in range(len(fdcs)):\n",
    "        map_fdc[fdcs[i]] = i\n",
    "\n",
    "    slot1 = 1\n",
    "    slot2 = 1 + lenfdc\n",
    "    slot3 = 1 + lenfdc + lenfdc\n",
    "    slot4 = 1 + lenfdc + lenfdc + lenfdc\n",
    "    \n",
    "    cur = conn.cursor()\n",
    "    cur.execute('SELECT distinct starttime FROM mimiciii.PRESCRIPTIONS WHERE hadm_id='+str(aid)+' ORDER BY starttime ASC')\n",
    "    starttimes = cur.fetchall()\n",
    "    timeseries = [];\n",
    "    \n",
    "    # logic = \n",
    "    # 1 put first down\n",
    "    # if duplicated\n",
    "    # try to merge (numeric + same unit)\n",
    "    # unreadable -> text field\n",
    "    # different unit = next row\n",
    "    for d in starttimes:\n",
    "        \n",
    "        #timeseries object\n",
    "        subtimeseries = []\n",
    "        obj = [d]+[None]*lenfdc+['']*lenfdc+[None]*lenfdc+['']*lenfdc\n",
    "\n",
    "        subtimeseries.append(obj)\n",
    "        \n",
    "        d = d[0]\n",
    "        if(d == None):\n",
    "            d = admitdate\n",
    "        cur = conn.cursor()\n",
    "        cur.execute('SELECT drug,formulary_drug_cd,dose_val_rx,dose_unit_rx FROM mimiciii.PRESCRIPTIONS WHERE hadm_id='+str(aid)+' AND starttime=\\''+ str(d) +'\\' ORDER BY starttime ASC, row_id ASC')\n",
    "        ins = cur.fetchall()\n",
    "        \n",
    "        for pres in ins:\n",
    "            drug = pres[0]\n",
    "            formular = pres[1]\n",
    "            dose = pres[2]\n",
    "            unit = pres[3]\n",
    "            \n",
    "            if(dose ==''): continue;\n",
    "            if(drug =='' and formular ==''): continue;\n",
    "            orig_dose = dose\n",
    "            dose = dose.replace(',','').replace(' ','')\n",
    "            drug = drug.lower().replace(' ','')\n",
    "            unit = unit.replace(' ','').lower()\n",
    "            \n",
    "            key = -1\n",
    "            if(formular!=''):\n",
    "                key = map_fdc[formular] \n",
    "            else:\n",
    "                key = map_fdc[drug]\n",
    "            assert key != -1\n",
    "            \n",
    "            placed = False;\n",
    "            placeInFinalRow = False;\n",
    "            i=0;\n",
    "            while(not placed):\n",
    "                numVal = None;\n",
    "                try:\n",
    "                    numVal = float(dose)\n",
    "                except:\n",
    "                    if(len(dose.split('-')) ==2):\n",
    "                        strs = dose.split('-')\n",
    "                        try:\n",
    "                            numVal = (float(strs[0]) + float(strs[1]))/2.0\n",
    "                        except:\n",
    "                            pass;\n",
    "                    pass;\n",
    "                \n",
    "                if(numVal == None):\n",
    "                    # not a number \n",
    "                    subtimeseries[i][slot2+key] += orig_dose + ' //'\n",
    "                    subtimeseries[i][slot4+key] += unit + ' //'\n",
    "                    print 'notnum'\n",
    "                    placed = True\n",
    "                    if(i==len(subtimeseries)-1):\n",
    "                        placeInFinalRow = True\n",
    "                else:\n",
    "                    if(subtimeseries[i][slot3+key] == None):\n",
    "                        subtimeseries[i][slot1+key] = numVal\n",
    "                        subtimeseries[i][slot3+key] = unit\n",
    "                        placed = True\n",
    "                        if(i==len(subtimeseries)-1):\n",
    "                            placeInFinalRow = True\n",
    "                        \n",
    "                    elif(unit == subtimeseries[i][slot3+key]):\n",
    "                        subtimeseries[i][slot1+key] += numVal\n",
    "                        placed = True\n",
    "                        \n",
    "                    else:\n",
    "                        i+=1\n",
    "                        \n",
    "                    \n",
    "            if(placeInFinalRow):\n",
    "                obj = [d]+[None]*lenfdc+['']*lenfdc+[None]*lenfdc+['']*lenfdc\n",
    "                subtimeseries.append(obj)\n",
    "        \n",
    "        timeseries.extend(subtimeseries[0:len(subtimeseries)-1])\n",
    "        \n",
    "    PRESCRIPTIONS.append(timeseries)\n",
    "#     break;\n",
    "\n",
    "print 'done'    "
   ]
  },
  {
   "cell_type": "code",
   "execution_count": 150,
   "metadata": {
    "collapsed": false
   },
   "outputs": [
    {
     "name": "stdout",
     "output_type": "stream",
     "text": [
      "mg\n"
     ]
    }
   ],
   "source": [
    "print PRESCRIPTIONS[0][15][1+1537+4176*2]"
   ]
  },
  {
   "cell_type": "code",
   "execution_count": 86,
   "metadata": {
    "collapsed": false
   },
   "outputs": [
    {
     "data": {
      "text/plain": [
       "4176"
      ]
     },
     "execution_count": 86,
     "metadata": {},
     "output_type": "execute_result"
    }
   ],
   "source": [
    "lenfdc\n",
    "# CHARTEVENTS\n",
    "# OUTPUTEVENTS\n",
    "# LABEVENTS\n",
    "# PROCEDUREEVENTS_MV\n",
    "# INPUTEVENTS\n",
    "# MICROBIOLOGYEVENTS"
   ]
  },
  {
   "cell_type": "code",
   "execution_count": 134,
   "metadata": {
    "collapsed": false
   },
   "outputs": [
    {
     "data": {
      "text/plain": [
       "1537"
      ]
     },
     "execution_count": 134,
     "metadata": {},
     "output_type": "execute_result"
    }
   ],
   "source": [
    "map_fdc['DOPA400PM']"
   ]
  },
  {
   "cell_type": "code",
   "execution_count": 151,
   "metadata": {
    "collapsed": false
   },
   "outputs": [
    {
     "data": {
      "text/plain": [
       "29"
      ]
     },
     "execution_count": 151,
     "metadata": {},
     "output_type": "execute_result"
    }
   ],
   "source": [
    "len(PRESCRIPTIONS[0])"
   ]
  },
  {
   "cell_type": "code",
   "execution_count": null,
   "metadata": {
    "collapsed": true
   },
   "outputs": [],
   "source": []
  }
 ],
 "metadata": {
  "kernelspec": {
   "display_name": "Python 2",
   "language": "python",
   "name": "python2"
  },
  "language_info": {
   "codemirror_mode": {
    "name": "ipython",
    "version": 2
   },
   "file_extension": ".py",
   "mimetype": "text/x-python",
   "name": "python",
   "nbconvert_exporter": "python",
   "pygments_lexer": "ipython2",
   "version": "2.7.6"
  }
 },
 "nbformat": 4,
 "nbformat_minor": 0
}
